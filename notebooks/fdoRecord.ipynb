{
 "cells": [
  {
   "cell_type": "markdown",
   "id": "e41b4a22",
   "metadata": {},
   "source": [
    "## FDO Record \n",
    "\n",
    "**What is an FDO Record?** \n",
    "\n",
    "The FDO Record serves as metadata that provides a comprehensive overview of the key attributes of the FDO. Unlike the repository or bitstream, this record can be stored in the PID system, enabling it to be independent of the content's storage location. This record is especially useful for automated processing, as it allows for a quick assessment of the object's nature and the operations involved before accessing the content.\n",
    "\n",
    "In this example we use a DiSSCo Digital Specimen to show how FDO Record has been implemeted and what use case it can support. \n",
    "\n",
    "we will use this Digital Specimen record (https://hdl.handle.net/20.5000.1025/KMX-F7Q-6UX) for the demo. For more information see FDO Specification (https://doi.org/10.5281/zenodo.7782262) an this article (https://doi.org/10.3233/FC-230001) that provides more information about FDO and FDO Record. \n"
   ]
  },
  {
   "cell_type": "code",
   "execution_count": 4,
   "id": "0504884a",
   "metadata": {},
   "outputs": [],
   "source": [
    "import requests\n",
    "import json\n",
    "\n",
    "# Define the handle you want to retrieve\n",
    "handle = \"20.5000.1025/KMX-F7Q-6UX\"\n",
    "\n",
    "# Make a request to the Handle API\n",
    "url = f\"https://hdl.handle.net/api/handles/{handle}\"\n",
    "response = requests.get(url)"
   ]
  },
  {
   "cell_type": "markdown",
   "id": "b1ddfec4",
   "metadata": {},
   "source": [
    "We have a PID for the Digital Specimen. Now we use the python script to get JSON. But this JSON is FDO Record not the content. "
   ]
  },
  {
   "cell_type": "markdown",
   "id": "d0242143",
   "metadata": {},
   "source": [
    "The JSON response from the API is here: https://hdl.handle.net/api/handles/20.5000.1025/KMX-F7Q-6UX\n",
    "    "
   ]
  },
  {
   "cell_type": "code",
   "execution_count": 5,
   "id": "993d4569",
   "metadata": {},
   "outputs": [
    {
     "name": "stdout",
     "output_type": "stream",
     "text": [
      "Value at index 1: https://hdl.handle.net/20.5000.1025/KMX-F7Q-6UX\n",
      "Value at index 2: {\"id\":\"https://doi.org/10.22/10.22/2AA-GAA-E29\",\"pidType\":\"DOI\",\"primaryNameFromPid\":\"RA Issuing DOI\"}\n",
      "Value at index 3: {\"id\":\"http://hdl.handle.net/21...\",\"pidType\":\"Handle\",\"primaryNameFromPid\":\"Digital Specimen\"}\n",
      "Value at index 4: {\"id\":\"https://hdl.handle.net/21...\",\"pidType\":\"Handle\",\"primaryNameFromPid\":\"ZoologyVertebrateSpecimen\"}\n"
     ]
    }
   ],
   "source": [
    "# Extract specific indexes from the JSON response\n",
    "if response.status_code == 200:\n",
    "    data = json.loads(response.text)\n",
    "    values = data[\"values\"]\n",
    "    for value in values:\n",
    "        if value[\"index\"] == 1:\n",
    "            print(f\"Value at index 1: {value['data']['value']}\")\n",
    "        elif value[\"index\"] == 2:\n",
    "            print(f\"Value at index 2: {value['data']['value']}\")\n",
    "        elif value[\"index\"] == 3:\n",
    "            print(f\"Value at index 3: {value['data']['value']}\")\n",
    "        elif value[\"index\"] == 4:\n",
    "            print(f\"Value at index 4: {value['data']['value']}\")\n",
    "        else:\n",
    "            continue\n",
    "else:\n",
    "    print(f\"Error retrieving handle {handle}. Status code: {response.status_code}\")"
   ]
  },
  {
   "cell_type": "code",
   "execution_count": null,
   "id": "dde43917",
   "metadata": {},
   "outputs": [],
   "source": []
  }
 ],
 "metadata": {
  "kernelspec": {
   "display_name": "Python 3 (ipykernel)",
   "language": "python",
   "name": "python3"
  },
  "language_info": {
   "codemirror_mode": {
    "name": "ipython",
    "version": 3
   },
   "file_extension": ".py",
   "mimetype": "text/x-python",
   "name": "python",
   "nbconvert_exporter": "python",
   "pygments_lexer": "ipython3",
   "version": "3.9.1"
  },
  "toc": {
   "base_numbering": 1,
   "nav_menu": {},
   "number_sections": true,
   "sideBar": false,
   "skip_h1_title": false,
   "title_cell": "Table of Contents",
   "title_sidebar": "Contents",
   "toc_cell": false,
   "toc_position": {},
   "toc_section_display": true,
   "toc_window_display": false
  }
 },
 "nbformat": 4,
 "nbformat_minor": 5
}
