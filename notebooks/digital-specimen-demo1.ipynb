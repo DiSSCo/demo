{
 "cells": [
  {
   "cell_type": "markdown",
   "metadata": {},
   "source": [
    "## Digital Specimen Demo\n",
    "\n",
    "This is a simple Digital Specimen demonstrator to illustrate a few basic functionalities of \n",
    "a [Digital Specimen](https://dissco.tech/2020/03/31/what-is-a-digital-specimen/) -- a FAIR Digital Object. The goal here is to highlight persistent data linking, data packaging and using the persistent identifier to gather information for another external scientific workflow. \n",
    "\n",
    "\n",
    "This notebook shows: \n",
    "* How to get data about what is inside a digital specimen.\n",
    "* Get more information about an element through Data Type Registry (DTR).\n",
    "* Get the EBI Accession ID from Digital Specimen and pass the Accession ID to enasearch API.\n",
    "* Find out if a [UniPROT](https://www.uniprot.org/) (database of protein sequence) TrEMBL ID exists in the Digital Specimen repository.\n",
    "* Get the UniPROT TrEMBL ID from a digital specimen identifier (nsid) and perform another action/workflow. \n",
    "\n",
    "![Digital Specimen]()\n"
   ]
  },
  {
   "cell_type": "code",
   "execution_count": 1,
   "metadata": {},
   "outputs": [],
   "source": [
    "# Load the libraries for markdown display\n",
    "from IPython.display import Markdown as md"
   ]
  },
  {
   "cell_type": "markdown",
   "metadata": {},
   "source": [
    "Digital Specimen is a FAIR Digital Object acting as a digital twin on the Internet for a specific physical specimen."
   ]
  },
  {
   "cell_type": "markdown",
   "metadata": {},
   "source": [
    "### What is inside this Digital Specimen?\n",
    "Given a PID of a Digital Specimen (Natural Science Identifier: NSId), show the elements before retrieving the data."
   ]
  },
  {
   "cell_type": "code",
   "execution_count": 3,
   "metadata": {},
   "outputs": [
    {
     "data": {
      "text/markdown": [
       "<b>This Digital Specimen contains 21 elements "
      ],
      "text/plain": [
       "<IPython.core.display.Markdown object>"
      ]
     },
     "metadata": {},
     "output_type": "display_data"
    },
    {
     "name": "stdout",
     "output_type": "stream",
     "text": [
      "physicalSpecimenId\n",
      "gbifId\n",
      "institutionCode\n",
      "authorReference\n",
      "collectionCode\n",
      "collectionDate\n",
      "id\n",
      "midslevel\n",
      "catOfLifeReference\n",
      "locality\n",
      "country\n",
      "scientificName\n",
      "catalogNumber\n",
      "recordedBy\n",
      "decimalLatLon\n",
      "countryCode\n",
      "dwcaContent\n",
      "colContent\n",
      "ebiSearchResults\n",
      "wikidata\n",
      "wikidata_info\n"
     ]
    }
   ],
   "source": [
    "import urllib.request, json\n",
    "with urllib.request.urlopen(\"http://nsidr.org/objects/20.5000.1025/c2618387bb0932270617\") as url:\n",
    "    dsdata = json.loads(url.read().decode())\n",
    "    display(md(\"<b>This Digital Specimen contains \"'{} {} '.format(len(dsdata),\"elements\")))\n",
    "    for element in dsdata:\n",
    "        print(element)"
   ]
  },
  {
   "cell_type": "markdown",
   "metadata": {},
   "source": [
    "#### Tell me more about physicalSpecimenId\n",
    "At the momement the Data Type Registry element is not in the Digital Specimen recotd, let's assume there is a data type attached to this. Using the entry in the DTR we can find more about this element. This could also be used to verify the element before asking for it. "
   ]
  },
  {
   "cell_type": "code",
   "execution_count": 4,
   "metadata": {},
   "outputs": [
    {
     "data": {
      "text/markdown": [
       "#### Response from the DTR"
      ],
      "text/plain": [
       "<IPython.core.display.Markdown object>"
      ]
     },
     "metadata": {},
     "output_type": "display_data"
    },
    {
     "data": {
      "text/markdown": [
       "<b>Description"
      ],
      "text/plain": [
       "<IPython.core.display.Markdown object>"
      ]
     },
     "metadata": {},
     "output_type": "display_data"
    },
    {
     "data": {
      "text/markdown": [
       "An identifier of a physical specimen in a (e.g., natural sciences) collection"
      ],
      "text/plain": [
       "<IPython.core.display.Markdown object>"
      ]
     },
     "metadata": {},
     "output_type": "display_data"
    },
    {
     "data": {
      "text/markdown": [
       "<b>Provenance"
      ],
      "text/plain": [
       "<IPython.core.display.Markdown object>"
      ]
     },
     "metadata": {},
     "output_type": "display_data"
    },
    {
     "data": {
      "text/markdown": [
       "{'contributors': [{'identifiedUsing': 'ORCID', 'name': 'Alex Hardisty', 'details': '0000-0002-0767-4310'}], 'creationDate': '2020-05-28T13:57:05.007Z', 'lastModificationDate': '2020-05-28T13:57:05.007Z'}"
      ],
      "text/plain": [
       "<IPython.core.display.Markdown object>"
      ]
     },
     "metadata": {},
     "output_type": "display_data"
    }
   ],
   "source": [
    "import requests\n",
    "# THis is the PID of the data type in the data type registry \n",
    "url = 'http://dtr-test.pidconsortium.eu/objects/21.T11148/4ac7431c2616a213481e'\n",
    "req = requests.get(url)\n",
    "jsondtr = json.loads(req.content)\n",
    "display(md(\"#### Response from the DTR\"))\n",
    "display(md(\"<b>Description\"))\n",
    "display(md('{}'.format(jsondtr['description'])))\n",
    "display(md(\"<b>Provenance\"))\n",
    "display(md('{}'.format(jsondtr['provenance'])))"
   ]
  },
  {
   "cell_type": "markdown",
   "metadata": {},
   "source": [
    "Now get the content of the physicalSpecimenId."
   ]
  },
  {
   "cell_type": "code",
   "execution_count": 5,
   "metadata": {},
   "outputs": [
    {
     "data": {
      "text/markdown": [
       "<b>Physical specimen identifier"
      ],
      "text/plain": [
       "<IPython.core.display.Markdown object>"
      ]
     },
     "metadata": {},
     "output_type": "display_data"
    },
    {
     "name": "stdout",
     "output_type": "stream",
     "text": [
      "http://coldb.mnhn.fr/catalognumber/mnhn/im/2013-7767\n"
     ]
    }
   ],
   "source": [
    "physSpec = dsdata['physicalSpecimenId']\n",
    "display(md(\"<b>Physical specimen identifier\"))\n",
    "print(physSpec)"
   ]
  },
  {
   "cell_type": "markdown",
   "metadata": {},
   "source": [
    "There are different ways organisations create and store the physical specimen identifier. \n",
    "\n",
    "### Sequence data \n",
    "Now  get the information about the sequence information. \n",
    "The element ebiSearchResults contains information gathered from the EBI portal. "
   ]
  },
  {
   "cell_type": "code",
   "execution_count": 6,
   "metadata": {},
   "outputs": [
    {
     "data": {
      "text/markdown": [
       " #### Accession ID and Specimen Source"
      ],
      "text/plain": [
       "<IPython.core.display.Markdown object>"
      ]
     },
     "metadata": {},
     "output_type": "display_data"
    },
    {
     "data": {
      "text/markdown": [
       "KJ591664"
      ],
      "text/plain": [
       "<IPython.core.display.Markdown object>"
      ]
     },
     "metadata": {},
     "output_type": "display_data"
    },
    {
     "data": {
      "text/markdown": [
       "['Pygmaepterys pointieri voucher MNHN-IM-2013-7767 cytochrome oxidase subunit 1 (COI) gene, partial cds; mitochondrial.']"
      ],
      "text/plain": [
       "<IPython.core.display.Markdown object>"
      ]
     },
     "metadata": {},
     "output_type": "display_data"
    }
   ],
   "source": [
    "with urllib.request.urlopen(\"http://nsidr.org/objects/20.5000.1025/c2618387bb0932270617?jsonPointer=/ebiSearchResults/0\") as url:\n",
    "    data = json.loads(url.read().decode())\n",
    "    display(md(' #### Accession ID and Specimen Source'))\n",
    "    display(md('{}'.format(data['acc'])))\n",
    "    display(md('{}'.format(data['fields'][54]['values'])))"
   ]
  },
  {
   "cell_type": "markdown",
   "metadata": {},
   "source": [
    "We can now verify that the sequnece was created using the physical specimen from MNHN.\n",
    "\n",
    "The sequence is not stored in this Digital Specimen. To access that we can use the accession ID and ENA API to get more information."
   ]
  },
  {
   "cell_type": "code",
   "execution_count": 7,
   "metadata": {},
   "outputs": [
    {
     "name": "stdout",
     "output_type": "stream",
     "text": [
      "AACTTTATATATTTTATTTGGTATATGATCAGGACTTGTTGGAACAGCCCTAAGTTTACTTATTCGGGCAGAGCTAGGACAGCCAGGAGCCTTACTTGGAGACGATCAGCTATATAATGTTATTGTAACGGCACATGCCTTTGTAATAATTTTTTTTTTAGTAATGCCGATAATGATTGGAGGGTTTGGAAATTGATTGGTTCCTTTAATATTAGGAGCTCCAGATATGGCTTTTCCTCGATTAAATAATATAAGATTTTGACTGTTGCCTCCTGCTCTTTTATTGTTGCTGTCTTCAGCTGCTGTAGAAAGCGGAGTGGGAACAGGATGGACTGTTTATCCTCCTTTAGCTGGAAATTTAGCACATGCTGGAGGTTCAGTAGATCTTGCAATTTTTTCTCTTCACTTAGCGGGAGCTTCATCTATCCTAGGAGCTGTTAATTTTATTACAACTATTGTCAATATACGTTGAACAGGAATACAGTTTGAACGGCTTCCATTATTTGTATGATCAGTGAAAATTACAGCCATTTTGTTATTGCTTTCTTTACCTGTGTTAGCTGGAGCTATTACTATACTTTTAACTGATCGAAATTTTAACACAGCGTTCTTTGATCCTGCAGGAGGTGGAGATCCTATTCTCTACCAACATCTATTC\n"
     ]
    }
   ],
   "source": [
    "# load enasearch API \n",
    "import enasearch\n",
    "enaresult = enasearch.retrieve_data(      \n",
    "    ids=\"KJ591664\",\n",
    "        download=None,\n",
    "        display=\"fasta\",\n",
    "        file=None,\n",
    "        offset=0,\n",
    "        header=None, \n",
    "        expanded=True)\n",
    "print(enaresult[0].seq)"
   ]
  },
  {
   "cell_type": "markdown",
   "metadata": {},
   "source": [
    "### Other queries\n",
    "I have UniPROT TrEMBL ID. I want see which digital and physical specimens are associated with it."
   ]
  },
  {
   "cell_type": "code",
   "execution_count": 8,
   "metadata": {},
   "outputs": [],
   "source": [
    "dsquery = \"http://nsidr.org/objects/?query=A0A0A7CD09\"\n",
    "req = requests.get(dsquery)\n",
    "jsonres = json.loads(req.content)"
   ]
  },
  {
   "cell_type": "code",
   "execution_count": 9,
   "metadata": {},
   "outputs": [
    {
     "data": {
      "text/markdown": [
       "<b>Display results from digital specimen repo"
      ],
      "text/plain": [
       "<IPython.core.display.Markdown object>"
      ]
     },
     "metadata": {},
     "output_type": "display_data"
    },
    {
     "data": {
      "text/markdown": [
       "<b>PID | Type | Physical specimen identifier |Scientific Name"
      ],
      "text/plain": [
       "<IPython.core.display.Markdown object>"
      ]
     },
     "metadata": {},
     "output_type": "display_data"
    },
    {
     "data": {
      "text/markdown": [
       "20.5000.1025/7b03a195ff167782f6ad | DigitalSpecimen | http://coldb.mnhn.fr/catalognumber/mnhn/im/2013-7985| Pygmaepterys pointieri Garrigues & Merle, 2014"
      ],
      "text/plain": [
       "<IPython.core.display.Markdown object>"
      ]
     },
     "metadata": {},
     "output_type": "display_data"
    },
    {
     "data": {
      "text/markdown": [
       "20.5000.1025/216738ba25f899a2d1fc | DigitalSpecimen | http://coldb.mnhn.fr/catalognumber/mnhn/im/2013-8488| Pygmaepterys pointieri Garrigues & Merle, 2014"
      ],
      "text/plain": [
       "<IPython.core.display.Markdown object>"
      ]
     },
     "metadata": {},
     "output_type": "display_data"
    },
    {
     "data": {
      "text/markdown": [
       "20.5000.1025/03de9f562e2de9c62948 | DigitalSpecimen | http://coldb.mnhn.fr/catalognumber/mnhn/im/2013-8433| Pygmaepterys pointieri Garrigues & Merle, 2014"
      ],
      "text/plain": [
       "<IPython.core.display.Markdown object>"
      ]
     },
     "metadata": {},
     "output_type": "display_data"
    },
    {
     "data": {
      "text/markdown": [
       "20.5000.1025/c2618387bb0932270617 | DigitalSpecimen | http://coldb.mnhn.fr/catalognumber/mnhn/im/2013-7767| Pygmaepterys pointieri Garrigues & Merle, 2014"
      ],
      "text/plain": [
       "<IPython.core.display.Markdown object>"
      ]
     },
     "metadata": {},
     "output_type": "display_data"
    }
   ],
   "source": [
    "display(md(\"<b>Display results from digital specimen repo\"))\n",
    "display(md(\"<b>PID | Type | Physical specimen identifier |Scientific Name\"))\n",
    "#print(jsonres['results'])\n",
    "for i in jsonres['results']: \n",
    "    #print(i['id'])\n",
    "    display(md('{} | {} | {}| {}'.format(i['id'],i['type'],i['content']['physicalSpecimenId'],i['content']['scientificName'])))"
   ]
  },
  {
   "cell_type": "markdown",
   "metadata": {},
   "source": [
    "### Other Action (beyond linking and query)\n",
    "Given a NSId (persitent identifer for a digital specimen) I would like to perform another operation on the protein  sequnece. This is a good example of reproducibility and reusability (from FAIR) where certain workflows can be repeated and reused after publication using the PID. \n"
   ]
  },
  {
   "cell_type": "code",
   "execution_count": 10,
   "metadata": {},
   "outputs": [],
   "source": [
    "from Bio import SeqIO\n",
    "import urllib.request\n",
    "import urllib.parse"
   ]
  },
  {
   "cell_type": "code",
   "execution_count": 11,
   "metadata": {},
   "outputs": [
    {
     "name": "stdout",
     "output_type": "stream",
     "text": [
      "http://www.uniprot.org/uniprot/A0A0A7CD09.xml\n"
     ]
    }
   ],
   "source": [
    "mynsid = \"http://nsidr.org/objects/20.5000.1025/c2618387bb0932270617\"\n",
    "\n",
    "# http://nsidr.org/objects/20.5000.1025/c2618387bb0932270617?jsonPointer=/ebiSearchResults/1/fields/24\n",
    "jsonPointer = \"?jsonPointer=/ebiSearchResults/1/fields/24\"\n",
    "\n",
    "fetch = urllib.request.urlopen(mynsid+jsonPointer)\n",
    "uniprot = json.loads(fetch.read().decode())\n",
    "uniprotID = uniprot['values']\n",
    "stringIDXML = str(uniprotID).strip('[]')+\".xml\"\n",
    "uniproturl = \"http://www.uniprot.org/uniprot/\" + (str(stringIDXML).replace(\"'\",\"\"))\n",
    "print(uniproturl)"
   ]
  },
  {
   "cell_type": "markdown",
   "metadata": {},
   "source": [
    "Show the record name and annotations attached this record so I can do 'X'. "
   ]
  },
  {
   "cell_type": "code",
   "execution_count": 12,
   "metadata": {},
   "outputs": [
    {
     "name": "stdout",
     "output_type": "stream",
     "text": [
      "A0A0A7CD09_9CAEN\n",
      "['4 [Fe(II)cytochrome c] + 4 H(+) + O2 = 4 [Fe(III)cytochrome c] + 2 H2O']\n",
      "['Belongs to the heme-copper respiratory oxidase family.']\n"
     ]
    }
   ],
   "source": [
    "xmlhandle = urllib.request.urlopen(\"http://www.uniprot.org/uniprot/A0A0A7CD09.xml\")\n",
    "record = SeqIO.read(xmlhandle, \"uniprot-xml\")\n",
    "#print(record)\n",
    "print(record.name)\n",
    "print(record.annotations['comment_catalyticactivity'])\n",
    "print(record.annotations['comment_similarity'])"
   ]
  },
  {
   "cell_type": "markdown",
   "metadata": {},
   "source": [
    "This is very simple example to illustrate the advantage of PID attached to a digital specimen (which is linked to a physical specimen) and possibility of creating a actionable knowledge unit and FAIR data lifecycle. "
   ]
  }
 ],
 "metadata": {
  "kernelspec": {
   "display_name": "Python 3",
   "language": "python",
   "name": "python3"
  },
  "language_info": {
   "codemirror_mode": {
    "name": "ipython",
    "version": 3
   },
   "file_extension": ".py",
   "mimetype": "text/x-python",
   "name": "python",
   "nbconvert_exporter": "python",
   "pygments_lexer": "ipython3",
   "version": "3.7.6"
  }
 },
 "nbformat": 4,
 "nbformat_minor": 4
}
