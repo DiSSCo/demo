{
 "cells": [
  {
   "cell_type": "markdown",
   "metadata": {},
   "source": [
    "## A brant goose, the 1917 Avian Influenza Virus and museum specimens\n",
    "\n",
    "A [2002 article](https://doi.org/10.1128/JVI.76.15.7860-7862.2002) from the *Journal of Virology* mentions the following: \n",
    "\n",
    "*A brant goose (Branta bernicla) was collected by G. D. Hanna from St. Paul Island, Pribilof Islands, Alaska, on 9 Sept. 1917. RT-PCR with primers specific for the H1 subtype gave a positive signal from the 1917 brant goose.*\n",
    "\n",
    "The researchers used specimens from the Smithsonian for this project:\n",
    "\n",
    "*The Smithsonian Institution in Washington, D.C., has several thousand preserved bird specimens from the early part of the 20th century. Wild waterfowl collected by Smithsonian Institution researchers between 1915 and 1920, cataloged and preserved in ethanol, were used for the study.*\n",
    "\n",
    "![Brant Goose](https://upload.wikimedia.org/wikipedia/commons/thumb/3/3f/Branta_bernicla_-Iceland-8.jpg/440px-Branta_bernicla_-Iceland-8.jpg)\n",
    "image source: https://en.wikipedia.org/wiki/Black_brant\n",
    "\n",
    "\n",
    "This notebook shows the importance of linking and tracing data from scholarly publications using persistent identifiers. The notebook also highlights issues with FAIR data and demonstrates how Digital Specimen and Natural Science Identifier (NSId) can address some of these gaps. "
   ]
  },
  {
   "cell_type": "code",
   "execution_count": 7,
   "metadata": {},
   "outputs": [
    {
     "name": "stdout",
     "output_type": "stream",
     "text": [
      "{'bib': {'abstract': 'Wild waterfowl captured between 1915 and 1919 were '\n",
      "                     'tested for influenza A virus RNA. One bird, captured in '\n",
      "                     '1917, was infected with a virus of the same '\n",
      "                     'hemagglutinin (HA) subtype as that of the 1918 pandemic '\n",
      "                     'virus. The 1917 HA is more closely related to that of '\n",
      "                     'modern avian',\n",
      "         'author': ['TG Fanning', 'RD Slemons', 'AH Reid'],\n",
      "         'cites': '73',\n",
      "         'eprint': 'https://jvi.asm.org/content/jvi/76/15/7860.full.pdf',\n",
      "         'gsrank': '1',\n",
      "         'title': '1917 avian influenza virus sequences suggest that the 1918 '\n",
      "                  'pandemic virus did not acquire its hemagglutinin directly '\n",
      "                  'from birds',\n",
      "         'url': 'https://jvi.asm.org/content/76/15/7860.short',\n",
      "         'venue': 'Journal of …',\n",
      "         'year': '2002'},\n",
      " 'citations_link': '/scholar?cites=10647908837644157821&as_sdt=5,33&sciodt=0,33&hl=en',\n",
      " 'filled': False,\n",
      " 'source': 'scholar',\n",
      " 'url_add_sclib': '/citations?hl=en&xsrf=&continue=/scholar%3Fq%3D1917%2BHemagglutinin%2BDirectly%2Bfrom%2BBirds%26hl%3Den%26as_sdt%3D0,33&citilm=1&json=&update_op=library_add&info=fcOFPKz4xJMJ&ei=XH5gX4PvIdKsmwHklJT4Cg',\n",
      " 'url_scholarbib': '/scholar?q=info:fcOFPKz4xJMJ:scholar.google.com/&output=cite&scirp=0&hl=en'}\n"
     ]
    }
   ],
   "source": [
    "## The data from the paper, using google scholar we can get the DOI, the pdf\n",
    "## and extract texts from it. \n",
    "\n",
    "from scholarly import scholarly\n",
    "search_query = scholarly.search_pubs('1917 Hemagglutinin Directly from Birds')\n",
    "print(next(search_query))"
   ]
  },
  {
   "cell_type": "markdown",
   "metadata": {},
   "source": [
    "First, the paper -- it has a DOI -- using google scholar we can get the DOI, the pdf and extract texts from it. How do we track down the specimens and sequences mentioned in the article? Which of these steps can be automated?"
   ]
  },
  {
   "cell_type": "markdown",
   "metadata": {},
   "source": [
    "From the journal article, we can extract the following: \n",
    ">>   \n",
    ">>Nucleotide sequence accession numbers. The GenBank accession numbers for the 1917 goose sequence fragments are\n",
    ">>AY095226 (HA1), AY095227 (HA2), and AY095228 (NP).  \n",
    ">>\n",
    "\n",
    "Now, using the identifiers from ENA we can find out more about these sequences. "
   ]
  },
  {
   "cell_type": "code",
   "execution_count": 8,
   "metadata": {},
   "outputs": [],
   "source": [
    "import enasearch\n",
    "enaresult = enasearch.retrieve_data(      \n",
    "    ids=\"AY095226\",\n",
    "        download=None,\n",
    "        display=\"text\",\n",
    "        file=None,\n",
    "        offset=0,\n",
    "        header=None, \n",
    "        expanded=True)"
   ]
  },
  {
   "cell_type": "markdown",
   "metadata": {},
   "source": [
    "This is the source extracted from the ENA result.\n",
    "```\n",
    "FT   source          1..166\n",
    "FT                   /organism=\"Influenza A virus (A/Brant Goose/1/1917(H1N?))\"\n",
    "FT                   /strain=\"A/Brant goose/1/1917 (H1N?)\"\n",
    "FT                   /mol_type=\"mRNA\"\n",
    "FT                   /note=\"obtained from preserved Brant goose (Branta\n",
    "FT                   bernicula) specimen from the Smithsonian Institution's\n",
    "FT                   Museum of Natural History; specimen was originally\n",
    "FT                   collected by G.D. Hanna from St. Paul Island, Pribilof\n",
    "FT                   Islands, Alaska, on Sept. 9, 1917\"\n",
    "```"
   ]
  },
  {
   "cell_type": "markdown",
   "metadata": {},
   "source": [
    "As you can see, the above contains no machine readable identifiers that can be resolved. But based on the description (we are assumming it is correct), we can try to track the specimens in the Smithsonian collection. \n",
    "\n",
    "We can use the gbif API for this. But before that two more things to point out: \n",
    "\n",
    "1. There is a typo in the scientific name: *Branta bernicula* should be *Branta bernicla*. We can use *Branta* in our search string. \n",
    "2. We need to know how to find the correct collection holding organisation (there are several listed under Smithsonian). The relevant \n",
    "institution code is [USNM](https://registry.gbif.org/institution/586ee56e-b0fe-4dff-b7f9-aeb104f3308a) -- again this is not an unambiguous persistent identifier. \n",
    "\n",
    "Let's build the gbif query: "
   ]
  },
  {
   "cell_type": "code",
   "execution_count": 9,
   "metadata": {},
   "outputs": [
    {
     "name": "stdout",
     "output_type": "stream",
     "text": [
      "Branta bernicla nigricans (Lawrence, 1846)\n",
      "Alaska\n",
      "North America, United States, Alaska, Aleutians West Census Area\n",
      "Saint Paul Island, Pribilof Islands\n",
      "G. Hanna\n",
      "NMNH Extant Biology\n",
      "http://n2t.net/ark:/65665/396827066-bc6d-4419-83e7-25774fe2b0d3\n"
     ]
    }
   ],
   "source": [
    "import urllib.request, json\n",
    "gbifQ = \"http://api.gbif.org/v1/occurrence/search?q=Branta&institution_code=usnm&month=9&year=1917\"\n",
    "\n",
    "# Display the data\n",
    "with urllib.request.urlopen(gbifQ) as url:\n",
    "    gbifdata = json.loads(url.read().decode())\n",
    "    print(gbifdata['results'][0]['scientificName'])\n",
    "    print(gbifdata['results'][0]['stateProvince'])\n",
    "    print(gbifdata['results'][0]['higherGeography'])\n",
    "    print(gbifdata['results'][0]['locality'])\n",
    "    print(gbifdata['results'][0]['recordedBy'])\n",
    "    print(gbifdata['results'][0]['datasetName'])\n",
    "    print(gbifdata['results'][0]['occurrenceID'])"
   ]
  },
  {
   "cell_type": "markdown",
   "metadata": {},
   "source": [
    "Looking at the results from GBIF and ENA and comparing this with the text from the article we now can manual verify that the specimen used here was *Branta bernicla nigricans* and we can locate the physical specimen using this persistent identifier: http://n2t.net/ark:/65665/396827066-bc6d-4419-83e7-25774fe2b0d3\n",
    "\n",
    "It needed some manual work but we got there eventually. Now another researcher can track down this physical specimen and access the sequence data from these links. Imagine, if all these data were packaged using a single persistent identifier and method to automate the verificiation and linking. This is where the idea of Digital Specimen and Natural Science Identifier come in. The record could look like this: "
   ]
  },
  {
   "cell_type": "markdown",
   "metadata": {},
   "source": [
    "```\n",
    "{\n",
    "\t\"physicalSpecimenId\": \"http://n2t.net/ark:/65665/396827066-bc6d-4419-83e7-25774fe2b0d3\",\n",
    "\t\"gbifId\": \"https://www.gbif.org/occurrence/1320604744\",\n",
    "\t\"institutionCode\": \"USNM\",\n",
    "\t\"collectionDate\": \"1917-09-09T00:00:00\",\n",
    "\t\"id\": \"20.5000.1025/testid\",\n",
    "\t\"catOfLifeReference\": \"http://www.catalogueoflife.org/col/details/species/id/54c88481b6ca5f0629dec555e7bf1235\",\n",
    "\t\"locality\": \"Saint Paul Island, Pribilof Islands\",\n",
    "\t\"country\": \"United States of America\",\n",
    "\t\"scientificName\": \"Branta bernicla nigricans (Lawrence, 1846)\",\n",
    "\t\"catalogNumber\": \"USNM 226278\",\n",
    "\t\"recordedBy\": \"G. Hanna\",\n",
    "\t\"ebiSearchResults\": [{\n",
    "\t\t\"description\": \"Influenza A virus (A/Brant Goose/1/1917(H1N?)) hemagglutinin (HA) mRNA, partial cds.\",\n",
    "\t\t\"scientific_name\": \"Influenza A virus (A/Brant Goose/1/1917(H1N?))\",\n",
    "\t\t\"tax_id\": \"194387\",\n",
    "\t\t\"accession\": \"AY095227\",\n",
    "        \"enalink\": \"https://www.ebi.ac.uk/ena/browser/view/AY095227\",\n",
    "\t\t\"base_count\": \"288\",\n",
    "\t\t\"dataclass\": \"STD\",\n",
    "\t\t\"environmental_sample\": \"false\",\n",
    "\t\t\"first_public\": \"2002-07-02\",\n",
    "\t\t\"germline\": \"false\",\n",
    "\t\t\"mol_type\": \"mRNA\",\n",
    "\t\t\"sample_accession\": \"\",\n",
    "\t\t\"sequence_md5\": \"d3e58ab6ebf1d87e42e0798ae7f19aea\",\n",
    "\t\t\"strain\": \"A/Brant goose/1/1917 (H1N?)\"\n",
    "\t}]\n",
    "}\n",
    "```"
   ]
  },
  {
   "cell_type": "markdown",
   "metadata": {},
   "source": [
    "Along with persistent data linking, this also helps in data curation. For instance, We can add a name verificiation step that can check the name, verify the source material for the sequence, provide more information about the locality and the collection. When a new element such as new sequence, publication, or images "
   ]
  },
  {
   "cell_type": "markdown",
   "metadata": {},
   "source": [
    "TODO: Create digital specimen record with a real persistent identifier. "
   ]
  },
  {
   "cell_type": "code",
   "execution_count": null,
   "metadata": {},
   "outputs": [],
   "source": []
  }
 ],
 "metadata": {
  "kernelspec": {
   "display_name": "Python 3",
   "language": "python",
   "name": "python3"
  },
  "language_info": {
   "codemirror_mode": {
    "name": "ipython",
    "version": 3
   },
   "file_extension": ".py",
   "mimetype": "text/x-python",
   "name": "python",
   "nbconvert_exporter": "python",
   "pygments_lexer": "ipython3",
   "version": "3.7.6"
  }
 },
 "nbformat": 4,
 "nbformat_minor": 4
}
